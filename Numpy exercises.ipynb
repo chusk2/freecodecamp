{
    "cells": [
        {
            "cell_type": "markdown",
            "metadata": {},
            "source": [
                "![rmotr](https://user-images.githubusercontent.com/7065401/52071918-bda15380-2562-11e9-828c-7f95297e4a82.png)\n",
                "<hr style=\"margin-bottom: 40px;\">\n",
                "\n",
                "# NumPy exercises\n"
            ]
        },
        {
            "cell_type": "code",
            "execution_count": 2,
            "metadata": {},
            "outputs": [
                {
                    "name": "stdout",
                    "output_type": "stream",
                    "text": [
                        "1.21.4\n"
                    ]
                }
            ],
            "source": [
                "# Import the numpy package under the name np\n",
                "import numpy as np\n",
                "\n",
                "# Print the numpy version and the configuration\n",
                "print(np.__version__)"
            ]
        },
        {
            "cell_type": "markdown",
            "metadata": {},
            "source": [
                "![purple-divider](https://user-images.githubusercontent.com/7065401/52071927-c1cd7100-2562-11e9-908a-dde91ba14e59.png)\n",
                "\n",
                "## Array creation"
            ]
        },
        {
            "cell_type": "markdown",
            "metadata": {},
            "source": [
                "### Create a numpy array of size 10, filled with zeros."
            ]
        },
        {
            "cell_type": "code",
            "execution_count": 3,
            "metadata": {},
            "outputs": [
                {
                    "data": {
                        "text/plain": [
                            "array([0., 0., 0., 0., 0., 0., 0., 0., 0., 0.])"
                        ]
                    },
                    "execution_count": 3,
                    "metadata": {},
                    "output_type": "execute_result"
                }
            ],
            "source": [
                "# your code goes here\n",
                "np.zeros(10)"
            ]
        },
        {
            "cell_type": "markdown",
            "metadata": {},
            "source": [
                "![green-divider](https://user-images.githubusercontent.com/7065401/52071924-c003ad80-2562-11e9-8297-1c6595f8a7ff.png)\n",
                "\n",
                "### Create a numpy array with values ranging from 10 to 49"
            ]
        },
        {
            "cell_type": "code",
            "execution_count": 4,
            "metadata": {},
            "outputs": [
                {
                    "data": {
                        "text/plain": [
                            "array([10, 11, 12, 13, 14, 15, 16, 17, 18, 19, 20, 21, 22, 23, 24, 25, 26,\n",
                            "       27, 28, 29, 30, 31, 32, 33, 34, 35, 36, 37, 38, 39, 40, 41, 42, 43,\n",
                            "       44, 45, 46, 47, 48, 49])"
                        ]
                    },
                    "execution_count": 4,
                    "metadata": {},
                    "output_type": "execute_result"
                }
            ],
            "source": [
                "# your code goes here\n",
                "np.arange(10,50)"
            ]
        },
        {
            "cell_type": "markdown",
            "metadata": {},
            "source": [
                "![green-divider](https://user-images.githubusercontent.com/7065401/52071924-c003ad80-2562-11e9-8297-1c6595f8a7ff.png)\n",
                "\n",
                "### Create a numpy matrix of 2*2 integers, filled with ones."
            ]
        },
        {
            "cell_type": "code",
            "execution_count": 5,
            "metadata": {},
            "outputs": [
                {
                    "data": {
                        "text/plain": [
                            "array([[1, 1],\n",
                            "       [1, 1]])"
                        ]
                    },
                    "execution_count": 5,
                    "metadata": {},
                    "output_type": "execute_result"
                }
            ],
            "source": [
                "# your code goes here\n",
                "np.ones((2,2),dtype=int)  # np.ones(shape, dtype=int)"
            ]
        },
        {
            "cell_type": "markdown",
            "metadata": {},
            "source": [
                "![green-divider](https://user-images.githubusercontent.com/7065401/52071924-c003ad80-2562-11e9-8297-1c6595f8a7ff.png)\n",
                "\n",
                "### Create a numpy matrix of 3*2 float numbers, filled with ones."
            ]
        },
        {
            "cell_type": "code",
            "execution_count": 6,
            "metadata": {},
            "outputs": [
                {
                    "data": {
                        "text/plain": [
                            "array([[1., 1.],\n",
                            "       [1., 1.],\n",
                            "       [1., 1.]])"
                        ]
                    },
                    "execution_count": 6,
                    "metadata": {},
                    "output_type": "execute_result"
                }
            ],
            "source": [
                "# your code goes here\n",
                "np.ones((3,2))"
            ]
        },
        {
            "cell_type": "markdown",
            "metadata": {},
            "source": [
                "![green-divider](https://user-images.githubusercontent.com/7065401/52071924-c003ad80-2562-11e9-8297-1c6595f8a7ff.png)\n",
                "\n",
                "### Given the X numpy array, create a new numpy array with the same shape and type as X, filled with ones."
            ]
        },
        {
            "cell_type": "code",
            "execution_count": 7,
            "metadata": {},
            "outputs": [
                {
                    "data": {
                        "text/plain": [
                            "array([[1, 1, 1],\n",
                            "       [1, 1, 1]])"
                        ]
                    },
                    "execution_count": 7,
                    "metadata": {},
                    "output_type": "execute_result"
                }
            ],
            "source": [
                "# your code goes here\n",
                "X = np.array([[1,2,3],[4,5,6]])\n",
                "shape = X.shape\n",
                "dtype = X.dtype\n",
                "np.ones(shape, dtype = dtype)\n"
            ]
        },
        {
            "cell_type": "markdown",
            "metadata": {},
            "source": [
                "![green-divider](https://user-images.githubusercontent.com/7065401/52071924-c003ad80-2562-11e9-8297-1c6595f8a7ff.png)\n",
                "\n",
                "### Given the X numpy matrix, create a new numpy matrix with the same shape and type as X, filled with zeros."
            ]
        },
        {
            "cell_type": "code",
            "execution_count": 8,
            "metadata": {},
            "outputs": [
                {
                    "data": {
                        "text/plain": [
                            "array([[0, 0, 0],\n",
                            "       [0, 0, 0]])"
                        ]
                    },
                    "execution_count": 8,
                    "metadata": {},
                    "output_type": "execute_result"
                }
            ],
            "source": [
                "# your code goes here\n",
                "np.zeros(shape, dtype = dtype)"
            ]
        },
        {
            "cell_type": "markdown",
            "metadata": {},
            "source": [
                "![green-divider](https://user-images.githubusercontent.com/7065401/52071924-c003ad80-2562-11e9-8297-1c6595f8a7ff.png)\n",
                "\n",
                "### Create a numpy matrix of 4*4 integers, filled with fives."
            ]
        },
        {
            "cell_type": "code",
            "execution_count": 9,
            "metadata": {},
            "outputs": [
                {
                    "data": {
                        "text/plain": [
                            "array([[5, 5, 5, 5],\n",
                            "       [5, 5, 5, 5],\n",
                            "       [5, 5, 5, 5],\n",
                            "       [5, 5, 5, 5]])"
                        ]
                    },
                    "execution_count": 9,
                    "metadata": {},
                    "output_type": "execute_result"
                }
            ],
            "source": [
                "# your code goes here\n",
                "np.full((4,4),5)"
            ]
        },
        {
            "cell_type": "markdown",
            "metadata": {},
            "source": [
                "![green-divider](https://user-images.githubusercontent.com/7065401/52071924-c003ad80-2562-11e9-8297-1c6595f8a7ff.png)\n",
                "\n",
                "### Given the X numpy matrix, create a new numpy matrix with the same shape and type as X, filled with sevens."
            ]
        },
        {
            "cell_type": "code",
            "execution_count": 10,
            "metadata": {},
            "outputs": [
                {
                    "name": "stdout",
                    "output_type": "stream",
                    "text": [
                        "[[1 2 3]\n",
                        " [4 5 6]]\n"
                    ]
                },
                {
                    "data": {
                        "text/plain": [
                            "array([[7, 7, 7],\n",
                            "       [7, 7, 7]])"
                        ]
                    },
                    "execution_count": 10,
                    "metadata": {},
                    "output_type": "execute_result"
                }
            ],
            "source": [
                "# your code goes here\n",
                "print(X)\n",
                "np.full(X.shape, 7)"
            ]
        },
        {
            "cell_type": "markdown",
            "metadata": {},
            "source": [
                "![green-divider](https://user-images.githubusercontent.com/7065401/52071924-c003ad80-2562-11e9-8297-1c6595f8a7ff.png)\n",
                "\n",
                "### Create a 3*3 identity numpy matrix with ones on the diagonal and zeros elsewhere."
            ]
        },
        {
            "cell_type": "code",
            "execution_count": 11,
            "metadata": {},
            "outputs": [
                {
                    "data": {
                        "text/plain": [
                            "array([[1, 0, 0],\n",
                            "       [0, 1, 0],\n",
                            "       [0, 0, 1]])"
                        ]
                    },
                    "execution_count": 11,
                    "metadata": {},
                    "output_type": "execute_result"
                }
            ],
            "source": [
                "# your code goes here\n",
                "np.identity(3, dtype = int)"
            ]
        },
        {
            "cell_type": "markdown",
            "metadata": {},
            "source": [
                "![green-divider](https://user-images.githubusercontent.com/7065401/52071924-c003ad80-2562-11e9-8297-1c6595f8a7ff.png)\n",
                "\n",
                "### Create a numpy array, filled with 3 random integer values between 1 and 10."
            ]
        },
        {
            "cell_type": "code",
            "execution_count": 12,
            "metadata": {},
            "outputs": [
                {
                    "data": {
                        "text/plain": [
                            "array([7, 2, 5])"
                        ]
                    },
                    "execution_count": 12,
                    "metadata": {},
                    "output_type": "execute_result"
                }
            ],
            "source": [
                "# your code goes here\n",
                "np.random.randint(1,10,3)  # start, stop, number of elements --> random integers"
            ]
        },
        {
            "cell_type": "markdown",
            "metadata": {},
            "source": [
                "![green-divider](https://user-images.githubusercontent.com/7065401/52071924-c003ad80-2562-11e9-8297-1c6595f8a7ff.png)\n",
                "\n",
                "### Create a 3\\*3\\*3 numpy matrix, filled with random float values."
            ]
        },
        {
            "cell_type": "code",
            "execution_count": 13,
            "metadata": {},
            "outputs": [
                {
                    "data": {
                        "text/plain": [
                            "array([[[0.29835346, 0.19694524, 0.57681731],\n",
                            "        [0.18715463, 0.49242823, 0.48709923],\n",
                            "        [0.62373998, 0.6369888 , 0.01711953]],\n",
                            "\n",
                            "       [[0.74004541, 0.46607915, 0.33138065],\n",
                            "        [0.61095337, 0.16014655, 0.73718613],\n",
                            "        [0.89190916, 0.4567067 , 0.08767279]],\n",
                            "\n",
                            "       [[0.92248516, 0.94610849, 0.23781716],\n",
                            "        [0.85354561, 0.5518228 , 0.89440444],\n",
                            "        [0.33902819, 0.20354526, 0.31112812]]])"
                        ]
                    },
                    "execution_count": 13,
                    "metadata": {},
                    "output_type": "execute_result"
                }
            ],
            "source": [
                "# your code goes here\n",
                "np.random.rand(3,3,3)  # np.random.rand(shape) --> random numbers between 1 and 10"
            ]
        },
        {
            "cell_type": "markdown",
            "metadata": {},
            "source": [
                "![green-divider](https://user-images.githubusercontent.com/7065401/52071924-c003ad80-2562-11e9-8297-1c6595f8a7ff.png)\n",
                "\n",
                "### Given the X python list convert it to an Y numpy array"
            ]
        },
        {
            "cell_type": "code",
            "execution_count": 14,
            "metadata": {},
            "outputs": [
                {
                    "name": "stdout",
                    "output_type": "stream",
                    "text": [
                        "[-2  1  6 13 22 33 46 61 78 97], <class 'numpy.ndarray'>\n"
                    ]
                }
            ],
            "source": [
                "# your code goes here\n",
                "X = [i**2-3 for i in range(1,11) if i % 2 != 2]\n",
                "Y = np.array(X)\n",
                "print(f'{Y}, {type(Y)}')"
            ]
        },
        {
            "cell_type": "markdown",
            "metadata": {},
            "source": [
                "![green-divider](https://user-images.githubusercontent.com/7065401/52071924-c003ad80-2562-11e9-8297-1c6595f8a7ff.png)\n",
                "\n",
                "### Given the X numpy array, make a copy and store it on Y."
            ]
        },
        {
            "cell_type": "code",
            "execution_count": 15,
            "metadata": {},
            "outputs": [
                {
                    "name": "stdout",
                    "output_type": "stream",
                    "text": [
                        "x: [4 7 5 6 1], y: [4 7 5 6 1]\n",
                        "This demonstrate that y is an independent copy of x\n",
                        "x: [ 4 12  5  6  1], y: [4 7 5 6 1]\n"
                    ]
                }
            ],
            "source": [
                "# your code goes here\n",
                "x = np.random.randint(1,10,5)\n",
                "y = x.copy()\n",
                "print(f'x: {x}, y: {y}')\n",
                "x[1] = 12\n",
                "print('This demonstrate that y is an independent copy of x')\n",
                "print(f'x: {x}, y: {y}')"
            ]
        },
        {
            "cell_type": "markdown",
            "metadata": {},
            "source": [
                "![green-divider](https://user-images.githubusercontent.com/7065401/52071924-c003ad80-2562-11e9-8297-1c6595f8a7ff.png)\n",
                "\n",
                "### Create a numpy array with numbers from 1 to 10"
            ]
        },
        {
            "cell_type": "code",
            "execution_count": 16,
            "metadata": {},
            "outputs": [
                {
                    "data": {
                        "text/plain": [
                            "array([ 1,  2,  3,  4,  5,  6,  7,  8,  9, 10])"
                        ]
                    },
                    "execution_count": 16,
                    "metadata": {},
                    "output_type": "execute_result"
                }
            ],
            "source": [
                "# your code goes here\n",
                "np.arange(1,11)"
            ]
        },
        {
            "cell_type": "markdown",
            "metadata": {},
            "source": [
                "![green-divider](https://user-images.githubusercontent.com/7065401/52071924-c003ad80-2562-11e9-8297-1c6595f8a7ff.png)\n",
                "\n",
                "### Create a numpy array with the odd numbers between 1 to 10"
            ]
        },
        {
            "cell_type": "code",
            "execution_count": 17,
            "metadata": {},
            "outputs": [
                {
                    "data": {
                        "text/plain": [
                            "array([1, 3, 5, 7, 9])"
                        ]
                    },
                    "execution_count": 17,
                    "metadata": {},
                    "output_type": "execute_result"
                }
            ],
            "source": [
                "# your code goes here\n",
                "a = np.arange(1,11)\n",
                "a[a %2 != 0]"
            ]
        },
        {
            "cell_type": "markdown",
            "metadata": {},
            "source": [
                "![green-divider](https://user-images.githubusercontent.com/7065401/52071924-c003ad80-2562-11e9-8297-1c6595f8a7ff.png)\n",
                "\n",
                "### Create a numpy array with numbers from 1 to 10, in descending order."
            ]
        },
        {
            "cell_type": "code",
            "execution_count": 18,
            "metadata": {},
            "outputs": [
                {
                    "data": {
                        "text/plain": [
                            "array([10,  9,  8,  7,  6,  5,  4,  3,  2,  1])"
                        ]
                    },
                    "execution_count": 18,
                    "metadata": {},
                    "output_type": "execute_result"
                }
            ],
            "source": [
                "# your code goes here\n",
                "np.arange(10,0,-1)  # start, stop, step"
            ]
        },
        {
            "cell_type": "markdown",
            "metadata": {},
            "source": [
                "![green-divider](https://user-images.githubusercontent.com/7065401/52071924-c003ad80-2562-11e9-8297-1c6595f8a7ff.png)\n",
                "\n",
                "### Create a 3*3 numpy matrix, filled with values ranging from 0 to 8"
            ]
        },
        {
            "cell_type": "code",
            "execution_count": 19,
            "metadata": {},
            "outputs": [
                {
                    "data": {
                        "text/plain": [
                            "array([[0, 1, 2],\n",
                            "       [3, 4, 5],\n",
                            "       [6, 7, 8]])"
                        ]
                    },
                    "execution_count": 19,
                    "metadata": {},
                    "output_type": "execute_result"
                }
            ],
            "source": [
                "# your code goes here\n",
                "np.arange(0,9).reshape(3,3)"
            ]
        },
        {
            "cell_type": "markdown",
            "metadata": {},
            "source": [
                "![green-divider](https://user-images.githubusercontent.com/7065401/52071924-c003ad80-2562-11e9-8297-1c6595f8a7ff.png)\n",
                "\n",
                "### Show the memory size of the given Z numpy matrix"
            ]
        },
        {
            "cell_type": "code",
            "execution_count": 20,
            "metadata": {},
            "outputs": [],
            "source": [
                "# your code goes here\n"
            ]
        },
        {
            "cell_type": "code",
            "execution_count": 21,
            "metadata": {
                "cell_type": "solution",
                "scrolled": true
            },
            "outputs": [
                {
                    "name": "stdout",
                    "output_type": "stream",
                    "text": [
                        "800 bytes\n"
                    ]
                }
            ],
            "source": [
                "Z = np.zeros((10,10))\n",
                "\n",
                "print(\"%d bytes\" % (Z.size * Z.itemsize))"
            ]
        },
        {
            "cell_type": "markdown",
            "metadata": {},
            "source": [
                "![purple-divider](https://user-images.githubusercontent.com/7065401/52071927-c1cd7100-2562-11e9-908a-dde91ba14e59.png)\n",
                "\n",
                "## Array indexation\n",
                "Note: array means matrix with only ONE row"
            ]
        },
        {
            "cell_type": "markdown",
            "metadata": {},
            "source": [
                "### Given the X numpy array, show it's first element"
            ]
        },
        {
            "cell_type": "code",
            "execution_count": 22,
            "metadata": {},
            "outputs": [
                {
                    "name": "stdout",
                    "output_type": "stream",
                    "text": [
                        "[-2  1  6 13 22 33 46 61 78 97]\n",
                        "Size of x is 10. Last element will be removed to reshape it into a 3x3 matrix.\n",
                        "[[-2  1  6]\n",
                        " [13 22 33]\n",
                        " [46 61 78]]\n",
                        "First element of x is: -2\n"
                    ]
                }
            ],
            "source": [
                "# your code goes here\n",
                "x = np.array(X)\n",
                "print(x)\n",
                "print(f'Size of x is {x.size}. Last element will be removed to reshape it',\n",
                "      'into a 3x3 matrix.')\n",
                "x = np.delete(x,-1)\n",
                "x = x.reshape(3,3)\n",
                "print(x)\n",
                "print(f'First element of x is: {x[0,0]}')"
            ]
        },
        {
            "cell_type": "markdown",
            "metadata": {},
            "source": [
                "![green-divider](https://user-images.githubusercontent.com/7065401/52071924-c003ad80-2562-11e9-8297-1c6595f8a7ff.png)\n",
                "\n",
                "### Given the X numpy array, show it's last element"
            ]
        },
        {
            "cell_type": "code",
            "execution_count": 23,
            "metadata": {},
            "outputs": [
                {
                    "name": "stdout",
                    "output_type": "stream",
                    "text": [
                        "[[-2  1  6]\n",
                        " [13 22 33]\n",
                        " [46 61 78]]\n",
                        "Last element of x is: 78\n"
                    ]
                }
            ],
            "source": [
                "# your code goes here\n",
                "print(x)\n",
                "print(f'Last element of x is: {x[-1,-1]}')"
            ]
        },
        {
            "cell_type": "markdown",
            "metadata": {},
            "source": [
                "![green-divider](https://user-images.githubusercontent.com/7065401/52071924-c003ad80-2562-11e9-8297-1c6595f8a7ff.png)\n",
                "\n",
                "### Given the X numpy array, show it's first three elements"
            ]
        },
        {
            "cell_type": "code",
            "execution_count": 24,
            "metadata": {},
            "outputs": [
                {
                    "name": "stdout",
                    "output_type": "stream",
                    "text": [
                        "[1 9 3 3 6]\n"
                    ]
                },
                {
                    "data": {
                        "text/plain": [
                            "array([1, 9, 3])"
                        ]
                    },
                    "execution_count": 24,
                    "metadata": {},
                    "output_type": "execute_result"
                }
            ],
            "source": [
                "# your code goes here\n",
                "x = np.random.randint(1,10,5)\n",
                "print(x)\n",
                "x[:3]"
            ]
        },
        {
            "cell_type": "markdown",
            "metadata": {},
            "source": [
                "![green-divider](https://user-images.githubusercontent.com/7065401/52071924-c003ad80-2562-11e9-8297-1c6595f8a7ff.png)\n",
                "\n",
                "### Given the X numpy array, show all middle elements (elements between first and last elements)"
            ]
        },
        {
            "cell_type": "code",
            "execution_count": 25,
            "metadata": {},
            "outputs": [
                {
                    "name": "stdout",
                    "output_type": "stream",
                    "text": [
                        "[1 9 3 3 6]\n"
                    ]
                },
                {
                    "data": {
                        "text/plain": [
                            "array([9, 3, 3])"
                        ]
                    },
                    "execution_count": 25,
                    "metadata": {},
                    "output_type": "execute_result"
                }
            ],
            "source": [
                "# your code goes here\n",
                "print(x)\n",
                "x[1:-1]"
            ]
        },
        {
            "cell_type": "markdown",
            "metadata": {},
            "source": [
                "![green-divider](https://user-images.githubusercontent.com/7065401/52071924-c003ad80-2562-11e9-8297-1c6595f8a7ff.png)\n",
                "\n",
                "### Given the X numpy array, show the elements in reverse position"
            ]
        },
        {
            "cell_type": "code",
            "execution_count": 26,
            "metadata": {},
            "outputs": [
                {
                    "name": "stdout",
                    "output_type": "stream",
                    "text": [
                        "[1 9 3 3 6]\n"
                    ]
                },
                {
                    "data": {
                        "text/plain": [
                            "array([6, 3, 3, 9, 1])"
                        ]
                    },
                    "execution_count": 26,
                    "metadata": {},
                    "output_type": "execute_result"
                }
            ],
            "source": [
                "# your code goes here\n",
                "print(x)\n",
                "x[::-1]\n"
            ]
        },
        {
            "cell_type": "markdown",
            "metadata": {},
            "source": [
                "![green-divider](https://user-images.githubusercontent.com/7065401/52071924-c003ad80-2562-11e9-8297-1c6595f8a7ff.png)\n",
                "\n",
                "### Given the X numpy array, show the elements in an odd position"
            ]
        },
        {
            "cell_type": "code",
            "execution_count": 27,
            "metadata": {},
            "outputs": [
                {
                    "name": "stdout",
                    "output_type": "stream",
                    "text": [
                        "[1 9 3 3 6]\n"
                    ]
                },
                {
                    "data": {
                        "text/plain": [
                            "array([1, 3, 6])"
                        ]
                    },
                    "execution_count": 27,
                    "metadata": {},
                    "output_type": "execute_result"
                }
            ],
            "source": [
                "# your code goes here\n",
                "print(x)\n",
                "x[::2]\n"
            ]
        },
        {
            "cell_type": "markdown",
            "metadata": {},
            "source": [
                "![green-divider](https://user-images.githubusercontent.com/7065401/52071924-c003ad80-2562-11e9-8297-1c6595f8a7ff.png)\n",
                "\n",
                "### Given the X numpy matrix, show the first row elements"
            ]
        },
        {
            "cell_type": "code",
            "execution_count": 28,
            "metadata": {},
            "outputs": [
                {
                    "name": "stdout",
                    "output_type": "stream",
                    "text": [
                        "[[35 16 39]\n",
                        " [44 16 42]\n",
                        " [46 30 31]\n",
                        " [22 46 19]]\n"
                    ]
                },
                {
                    "data": {
                        "text/plain": [
                            "array([35, 16, 39])"
                        ]
                    },
                    "execution_count": 28,
                    "metadata": {},
                    "output_type": "execute_result"
                }
            ],
            "source": [
                "# your code goes here\n",
                "m = np.random.randint(10,50,12).reshape(4,3)\n",
                "print(m)\n",
                "m[0]"
            ]
        },
        {
            "cell_type": "markdown",
            "metadata": {},
            "source": [
                "![green-divider](https://user-images.githubusercontent.com/7065401/52071924-c003ad80-2562-11e9-8297-1c6595f8a7ff.png)\n",
                "\n",
                "### Given the X numpy matrix, show the last row elements"
            ]
        },
        {
            "cell_type": "code",
            "execution_count": 29,
            "metadata": {},
            "outputs": [
                {
                    "name": "stdout",
                    "output_type": "stream",
                    "text": [
                        "[[35 16 39]\n",
                        " [44 16 42]\n",
                        " [46 30 31]\n",
                        " [22 46 19]]\n"
                    ]
                },
                {
                    "data": {
                        "text/plain": [
                            "array([22, 46, 19])"
                        ]
                    },
                    "execution_count": 29,
                    "metadata": {},
                    "output_type": "execute_result"
                }
            ],
            "source": [
                "# your code goes here\n",
                "print(m)\n",
                "m[-1]"
            ]
        },
        {
            "cell_type": "markdown",
            "metadata": {},
            "source": [
                "![green-divider](https://user-images.githubusercontent.com/7065401/52071924-c003ad80-2562-11e9-8297-1c6595f8a7ff.png)\n",
                "\n",
                "### Given the X numpy matrix, show the first element on first row"
            ]
        },
        {
            "cell_type": "code",
            "execution_count": 30,
            "metadata": {},
            "outputs": [
                {
                    "name": "stdout",
                    "output_type": "stream",
                    "text": [
                        "[[35 16 39]\n",
                        " [44 16 42]\n",
                        " [46 30 31]\n",
                        " [22 46 19]]\n"
                    ]
                },
                {
                    "data": {
                        "text/plain": [
                            "35"
                        ]
                    },
                    "execution_count": 30,
                    "metadata": {},
                    "output_type": "execute_result"
                }
            ],
            "source": [
                "# your code goes here\n",
                "print(m)\n",
                "m[0,0]\n"
            ]
        },
        {
            "cell_type": "markdown",
            "metadata": {},
            "source": [
                "![green-divider](https://user-images.githubusercontent.com/7065401/52071924-c003ad80-2562-11e9-8297-1c6595f8a7ff.png)\n",
                "\n",
                "### Given the X numpy matrix, show the last element on last row"
            ]
        },
        {
            "cell_type": "code",
            "execution_count": 31,
            "metadata": {},
            "outputs": [
                {
                    "name": "stdout",
                    "output_type": "stream",
                    "text": [
                        "[[35 16 39]\n",
                        " [44 16 42]\n",
                        " [46 30 31]\n",
                        " [22 46 19]]\n"
                    ]
                },
                {
                    "data": {
                        "text/plain": [
                            "19"
                        ]
                    },
                    "execution_count": 31,
                    "metadata": {},
                    "output_type": "execute_result"
                }
            ],
            "source": [
                "# your code goes here\n",
                "print(m)\n",
                "m[-1,-1]"
            ]
        },
        {
            "cell_type": "markdown",
            "metadata": {},
            "source": [
                "![green-divider](https://user-images.githubusercontent.com/7065401/52071924-c003ad80-2562-11e9-8297-1c6595f8a7ff.png)\n",
                "\n",
                "### Given the X numpy matrix, show the middle row elements"
            ]
        },
        {
            "cell_type": "code",
            "execution_count": 32,
            "metadata": {},
            "outputs": [
                {
                    "name": "stdout",
                    "output_type": "stream",
                    "text": [
                        "[[35 16 39]\n",
                        " [44 16 42]\n",
                        " [46 30 31]\n",
                        " [22 46 19]]\n"
                    ]
                },
                {
                    "data": {
                        "text/plain": [
                            "array([[44, 16, 42],\n",
                            "       [46, 30, 31]])"
                        ]
                    },
                    "execution_count": 32,
                    "metadata": {},
                    "output_type": "execute_result"
                }
            ],
            "source": [
                "# your code goes here\n",
                "print(m)\n",
                "m[1:-1]"
            ]
        },
        {
            "cell_type": "markdown",
            "metadata": {},
            "source": [
                "![green-divider](https://user-images.githubusercontent.com/7065401/52071924-c003ad80-2562-11e9-8297-1c6595f8a7ff.png)\n",
                "\n",
                "### Given the X numpy matrix, show the first two elements on the first two rows"
            ]
        },
        {
            "cell_type": "code",
            "execution_count": 33,
            "metadata": {},
            "outputs": [
                {
                    "name": "stdout",
                    "output_type": "stream",
                    "text": [
                        "[[35 16 39]\n",
                        " [44 16 42]\n",
                        " [46 30 31]\n",
                        " [22 46 19]]\n"
                    ]
                },
                {
                    "data": {
                        "text/plain": [
                            "array([[35, 16],\n",
                            "       [44, 16]])"
                        ]
                    },
                    "execution_count": 33,
                    "metadata": {},
                    "output_type": "execute_result"
                }
            ],
            "source": [
                "# your code goes here\n",
                "print(m)\n",
                "m[:2,:2]"
            ]
        },
        {
            "cell_type": "markdown",
            "metadata": {},
            "source": [
                "![green-divider](https://user-images.githubusercontent.com/7065401/52071924-c003ad80-2562-11e9-8297-1c6595f8a7ff.png)\n",
                "\n",
                "### Given the X numpy matrix, show the last two elements on the last two rows"
            ]
        },
        {
            "cell_type": "code",
            "execution_count": 34,
            "metadata": {},
            "outputs": [
                {
                    "name": "stdout",
                    "output_type": "stream",
                    "text": [
                        "[[35 16 39]\n",
                        " [44 16 42]\n",
                        " [46 30 31]\n",
                        " [22 46 19]]\n"
                    ]
                },
                {
                    "data": {
                        "text/plain": [
                            "array([[30, 31],\n",
                            "       [46, 19]])"
                        ]
                    },
                    "execution_count": 34,
                    "metadata": {},
                    "output_type": "execute_result"
                }
            ],
            "source": [
                "# your code goes here\n",
                "print(m)\n",
                "m[-2:,-2:]  # slice: [before last (-2) --> last ()]"
            ]
        },
        {
            "cell_type": "markdown",
            "metadata": {},
            "source": [
                "![purple-divider](https://user-images.githubusercontent.com/7065401/52071927-c1cd7100-2562-11e9-908a-dde91ba14e59.png)\n",
                "\n",
                "## Array manipulation\n"
            ]
        },
        {
            "cell_type": "markdown",
            "metadata": {},
            "source": [
                "### Convert the given integer numpy array to float"
            ]
        },
        {
            "cell_type": "code",
            "execution_count": 35,
            "metadata": {},
            "outputs": [],
            "source": [
                "# your code goes here\n"
            ]
        },
        {
            "cell_type": "markdown",
            "metadata": {},
            "source": [
                "![green-divider](https://user-images.githubusercontent.com/7065401/52071924-c003ad80-2562-11e9-8297-1c6595f8a7ff.png)\n",
                "\n",
                "### Reverse the given numpy array (first element becomes last)"
            ]
        },
        {
            "cell_type": "code",
            "execution_count": 36,
            "metadata": {},
            "outputs": [],
            "source": [
                "# your code goes here\n"
            ]
        },
        {
            "cell_type": "markdown",
            "metadata": {},
            "source": [
                "![green-divider](https://user-images.githubusercontent.com/7065401/52071924-c003ad80-2562-11e9-8297-1c6595f8a7ff.png)\n",
                "\n",
                "### Order (sort) the given numpy array"
            ]
        },
        {
            "cell_type": "code",
            "execution_count": 37,
            "metadata": {},
            "outputs": [],
            "source": [
                "# your code goes here\n"
            ]
        },
        {
            "cell_type": "markdown",
            "metadata": {},
            "source": [
                "![green-divider](https://user-images.githubusercontent.com/7065401/52071924-c003ad80-2562-11e9-8297-1c6595f8a7ff.png)\n",
                "\n",
                "### Given the X numpy array, set the fifth element equal to 1"
            ]
        },
        {
            "cell_type": "code",
            "execution_count": 38,
            "metadata": {},
            "outputs": [],
            "source": [
                "# your code goes here\n"
            ]
        },
        {
            "cell_type": "markdown",
            "metadata": {},
            "source": [
                "![green-divider](https://user-images.githubusercontent.com/7065401/52071924-c003ad80-2562-11e9-8297-1c6595f8a7ff.png)\n",
                "\n",
                "### Given the X numpy array, change the 50 with a 40"
            ]
        },
        {
            "cell_type": "code",
            "execution_count": 39,
            "metadata": {},
            "outputs": [],
            "source": [
                "# your code goes here\n"
            ]
        },
        {
            "cell_type": "markdown",
            "metadata": {},
            "source": [
                "![green-divider](https://user-images.githubusercontent.com/7065401/52071924-c003ad80-2562-11e9-8297-1c6595f8a7ff.png)\n",
                "\n",
                "### Given the X numpy matrix, change the last row with all 1"
            ]
        },
        {
            "cell_type": "code",
            "execution_count": 40,
            "metadata": {},
            "outputs": [],
            "source": [
                "# your code goes here\n"
            ]
        },
        {
            "cell_type": "markdown",
            "metadata": {},
            "source": [
                "![green-divider](https://user-images.githubusercontent.com/7065401/52071924-c003ad80-2562-11e9-8297-1c6595f8a7ff.png)\n",
                "\n",
                "### Given the X numpy matrix, change the last item on the last row with a 0"
            ]
        },
        {
            "cell_type": "code",
            "execution_count": 41,
            "metadata": {},
            "outputs": [],
            "source": [
                "# your code goes here\n"
            ]
        },
        {
            "cell_type": "markdown",
            "metadata": {},
            "source": [
                "![green-divider](https://user-images.githubusercontent.com/7065401/52071924-c003ad80-2562-11e9-8297-1c6595f8a7ff.png)\n",
                "\n",
                "### Given the X numpy matrix, add 5 to every element"
            ]
        },
        {
            "cell_type": "code",
            "execution_count": 42,
            "metadata": {},
            "outputs": [],
            "source": [
                "# your code goes here\n"
            ]
        },
        {
            "cell_type": "markdown",
            "metadata": {},
            "source": [
                "![purple-divider](https://user-images.githubusercontent.com/7065401/52071927-c1cd7100-2562-11e9-908a-dde91ba14e59.png)\n",
                "\n",
                "## Boolean arrays _(also called masks)_\n"
            ]
        },
        {
            "cell_type": "markdown",
            "metadata": {},
            "source": [
                "### Given the X numpy array, make a mask showing negative elements"
            ]
        },
        {
            "cell_type": "code",
            "execution_count": 43,
            "metadata": {},
            "outputs": [
                {
                    "name": "stdout",
                    "output_type": "stream",
                    "text": [
                        "[-22  -7  12  -2  -2 -13   3 -20]\n"
                    ]
                },
                {
                    "data": {
                        "text/plain": [
                            "array([ True,  True, False,  True,  True,  True, False,  True])"
                        ]
                    },
                    "execution_count": 43,
                    "metadata": {},
                    "output_type": "execute_result"
                }
            ],
            "source": [
                "# your code goes here\n",
                "m = np.random.randint(-25,25,8)\n",
                "print(m)\n",
                "m < 0\n"
            ]
        },
        {
            "cell_type": "markdown",
            "metadata": {},
            "source": [
                "![green-divider](https://user-images.githubusercontent.com/7065401/52071924-c003ad80-2562-11e9-8297-1c6595f8a7ff.png)\n",
                "\n",
                "### Given the X numpy array, get the negative elements"
            ]
        },
        {
            "cell_type": "code",
            "execution_count": 44,
            "metadata": {},
            "outputs": [
                {
                    "name": "stdout",
                    "output_type": "stream",
                    "text": [
                        "[-22  -7  12  -2  -2 -13   3 -20]\n"
                    ]
                },
                {
                    "data": {
                        "text/plain": [
                            "array([-22,  -7,  -2,  -2, -13, -20])"
                        ]
                    },
                    "execution_count": 44,
                    "metadata": {},
                    "output_type": "execute_result"
                }
            ],
            "source": [
                "# your code goes here\n",
                "print(m)\n",
                "m[m < 0]"
            ]
        },
        {
            "cell_type": "markdown",
            "metadata": {},
            "source": [
                "![green-divider](https://user-images.githubusercontent.com/7065401/52071924-c003ad80-2562-11e9-8297-1c6595f8a7ff.png)\n",
                "\n",
                "### Given the X numpy array, get numbers higher than 5"
            ]
        },
        {
            "cell_type": "code",
            "execution_count": 45,
            "metadata": {},
            "outputs": [
                {
                    "name": "stdout",
                    "output_type": "stream",
                    "text": [
                        "[-22  -7  12  -2  -2 -13   3 -20]\n"
                    ]
                },
                {
                    "data": {
                        "text/plain": [
                            "array([12])"
                        ]
                    },
                    "execution_count": 45,
                    "metadata": {},
                    "output_type": "execute_result"
                }
            ],
            "source": [
                "# your code goes here\n",
                "print(m)\n",
                "m[m > 5]"
            ]
        },
        {
            "cell_type": "markdown",
            "metadata": {},
            "source": [
                "![green-divider](https://user-images.githubusercontent.com/7065401/52071924-c003ad80-2562-11e9-8297-1c6595f8a7ff.png)\n",
                "\n",
                "### Given the X numpy array, get numbers higher than the elements mean"
            ]
        },
        {
            "cell_type": "code",
            "execution_count": 46,
            "metadata": {},
            "outputs": [
                {
                    "name": "stdout",
                    "output_type": "stream",
                    "text": [
                        "[-22  -7  12  -2  -2 -13   3 -20]\n",
                        "Mean of array \"m\" is: 5.5\n"
                    ]
                },
                {
                    "data": {
                        "text/plain": [
                            "array([12])"
                        ]
                    },
                    "execution_count": 46,
                    "metadata": {},
                    "output_type": "execute_result"
                }
            ],
            "source": [
                "# your code goes here\n",
                "print(m)\n",
                "print(f'Mean of array \"m\" is: {np.mean(a)}')\n",
                "m[m > np.mean(a)]"
            ]
        },
        {
            "cell_type": "markdown",
            "metadata": {},
            "source": [
                "![green-divider](https://user-images.githubusercontent.com/7065401/52071924-c003ad80-2562-11e9-8297-1c6595f8a7ff.png)\n",
                "\n",
                "### Given the X numpy array, get numbers equal to 2 or 10"
            ]
        },
        {
            "cell_type": "code",
            "execution_count": 47,
            "metadata": {},
            "outputs": [
                {
                    "data": {
                        "text/plain": [
                            "array([ 2, 10])"
                        ]
                    },
                    "execution_count": 47,
                    "metadata": {},
                    "output_type": "execute_result"
                }
            ],
            "source": [
                "# your code goes here\n",
                "X = np.array([-1, 2, 0, -4, 5, 6, 0, 0, -9, 10])\n",
                "X[(X == 2) | (X == 10)]  # ~ not, | or, & and\n"
            ]
        },
        {
            "cell_type": "markdown",
            "metadata": {},
            "source": [
                "![purple-divider](https://user-images.githubusercontent.com/7065401/52071927-c1cd7100-2562-11e9-908a-dde91ba14e59.png)\n",
                "\n",
                "## Logic functions\n"
            ]
        },
        {
            "cell_type": "markdown",
            "metadata": {},
            "source": [
                "### Given the X numpy array, return True if none of its elements is zero"
            ]
        },
        {
            "cell_type": "code",
            "execution_count": 48,
            "metadata": {},
            "outputs": [
                {
                    "name": "stdout",
                    "output_type": "stream",
                    "text": [
                        "X: [-1  2  0 -4  5  6  0  0 -9 10]\n",
                        "Y: [ -1   2   5  -4   5   6   7 -10  -9  10]\n",
                        "None of elements in X is zero: False\n",
                        "None of elements in Y is zero: True\n"
                    ]
                }
            ],
            "source": [
                "# your code goes here\n",
                "X = np.array([-1, 2, 0, -4, 5, 6, 0, 0, -9, 10])\n",
                "Y = np.array([-1, 2, 5, -4, 5, 6, 7, -10, -9, 10])\n",
                "print(f'X: {X}')\n",
                "print(f'Y: {Y}')\n",
                "print(f'None of elements in X is zero: {all(X != 0)}')\n",
                "print(f'None of elements in Y is zero: {all(Y != 0)}')"
            ]
        },
        {
            "cell_type": "markdown",
            "metadata": {},
            "source": [
                "![green-divider](https://user-images.githubusercontent.com/7065401/52071924-c003ad80-2562-11e9-8297-1c6595f8a7ff.png)\n",
                "\n",
                "### Given the X numpy array, return True if any of its elements is zero"
            ]
        },
        {
            "cell_type": "code",
            "execution_count": 49,
            "metadata": {},
            "outputs": [
                {
                    "name": "stdout",
                    "output_type": "stream",
                    "text": [
                        "[-1  2  0 -4  5  6  0  0 -9 10]\n",
                        "X has at least a zero element in it: True\n"
                    ]
                }
            ],
            "source": [
                "# your code goes here\n",
                "print(X)\n",
                "print(f'X has at least a zero element in it: {any(X == 0)}')"
            ]
        },
        {
            "cell_type": "markdown",
            "metadata": {},
            "source": [
                "![purple-divider](https://user-images.githubusercontent.com/7065401/52071927-c1cd7100-2562-11e9-908a-dde91ba14e59.png)\n",
                "\n",
                "## Summary statistics"
            ]
        },
        {
            "cell_type": "markdown",
            "metadata": {},
            "source": [
                "### Given the X numpy array, show the sum of its elements"
            ]
        },
        {
            "cell_type": "code",
            "execution_count": 50,
            "metadata": {},
            "outputs": [
                {
                    "name": "stdout",
                    "output_type": "stream",
                    "text": [
                        "[-1  2  0 -4  5  6  0  0 -9 10]\n",
                        "Sum of all elements of X is 9\n"
                    ]
                }
            ],
            "source": [
                "# your code goes here\n",
                "print(X)\n",
                "print(f'Sum of all elements of X is {X.sum()}')\n",
                "# print(f'Sum of all elements of X is {sum(X)}')\n"
            ]
        },
        {
            "cell_type": "markdown",
            "metadata": {},
            "source": [
                "![green-divider](https://user-images.githubusercontent.com/7065401/52071924-c003ad80-2562-11e9-8297-1c6595f8a7ff.png)\n",
                "\n",
                "### Given the X numpy array, show the mean value of its elements"
            ]
        },
        {
            "cell_type": "code",
            "execution_count": 51,
            "metadata": {},
            "outputs": [
                {
                    "name": "stdout",
                    "output_type": "stream",
                    "text": [
                        "[-1  2  0 -4  5  6  0  0 -9 10]\n",
                        "Mean of elements of X is 0.9\n"
                    ]
                }
            ],
            "source": [
                "# your code goes here\n",
                "print(X)\n",
                "print(f'Mean of elements of X is {np.mean(X)}')\n"
            ]
        },
        {
            "cell_type": "markdown",
            "metadata": {},
            "source": [
                "![green-divider](https://user-images.githubusercontent.com/7065401/52071924-c003ad80-2562-11e9-8297-1c6595f8a7ff.png)\n",
                "\n",
                "### Given the X numpy matrix, show the sum of its columns"
            ]
        },
        {
            "cell_type": "code",
            "execution_count": 55,
            "metadata": {},
            "outputs": [
                {
                    "name": "stdout",
                    "output_type": "stream",
                    "text": [
                        "[[ 6 -1  0]\n",
                        " [ 5  0  5]\n",
                        " [-4  6 -4]\n",
                        " [-5 -4 -1]]\n",
                        "Sum of elements in each column:\n",
                        "[2 1 0]\n"
                    ]
                }
            ],
            "source": [
                "# your code goes here\n",
                "x = np.random.randint(-5,10,(4,3))\n",
                "print(x)\n",
                "print('Sum of elements in each column:')\n",
                "print(x.sum(axis=0))  # axis=0 --> x axis, axis=1 --> y axis | (x,y) --> (0,1)"
            ]
        },
        {
            "cell_type": "markdown",
            "metadata": {},
            "source": [
                "![green-divider](https://user-images.githubusercontent.com/7065401/52071924-c003ad80-2562-11e9-8297-1c6595f8a7ff.png)\n",
                "\n",
                "### Given the X numpy matrix, show the mean value of its rows"
            ]
        },
        {
            "cell_type": "code",
            "execution_count": 61,
            "metadata": {},
            "outputs": [
                {
                    "name": "stdout",
                    "output_type": "stream",
                    "text": [
                        "[[ 6 -1  0]\n",
                        " [ 5  0  5]\n",
                        " [-4  6 -4]\n",
                        " [-5 -4 -1]]\n",
                        "Mean value of row 0: 1.67\n",
                        "Mean value of row 1: 3.33\n",
                        "Mean value of row 2: -0.67\n",
                        "Mean value of row 3: -3.33\n"
                    ]
                }
            ],
            "source": [
                "# your code goes here\n",
                "print(x)\n",
                "means = np.round(x.mean(axis=1),2)\n",
                "for index, value in enumerate(means):\n",
                "    print(f'Mean value of row {index}: {value}')"
            ]
        },
        {
            "cell_type": "markdown",
            "metadata": {},
            "source": [
                "![green-divider](https://user-images.githubusercontent.com/7065401/52071924-c003ad80-2562-11e9-8297-1c6595f8a7ff.png)\n",
                "\n",
                "### Given the X numpy array, show the max value of its elements"
            ]
        },
        {
            "cell_type": "code",
            "execution_count": 63,
            "metadata": {},
            "outputs": [
                {
                    "name": "stdout",
                    "output_type": "stream",
                    "text": [
                        "[[ 6 -1  0]\n",
                        " [ 5  0  5]\n",
                        " [-4  6 -4]\n",
                        " [-5 -4 -1]]\n",
                        "Maximum value of elements in matrix \"x\" is: 6\n"
                    ]
                }
            ],
            "source": [
                "# your code goes here\n",
                "print(x)\n",
                "print(f'Maximum value of elements in matrix \"x\" is: {x.max()}')"
            ]
        },
        {
            "cell_type": "markdown",
            "metadata": {},
            "source": [
                "![purple-divider](https://user-images.githubusercontent.com/7065401/52071927-c1cd7100-2562-11e9-908a-dde91ba14e59.png)"
            ]
        }
    ],
    "metadata": {
        "kernelspec": {
            "display_name": "Python 3",
            "language": "python",
            "name": "python3"
        },
        "language_info": {
            "codemirror_mode": {
                "name": "ipython",
                "version": 3
            },
            "file_extension": ".py",
            "mimetype": "text/x-python",
            "name": "python",
            "nbconvert_exporter": "python",
            "pygments_lexer": "ipython3",
            "version": "3.10.1"
        }
    },
    "nbformat": 4,
    "nbformat_minor": 4
}
