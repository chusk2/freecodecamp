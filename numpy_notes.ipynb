{
 "cells": [
  {
   "cell_type": "markdown",
   "metadata": {},
   "source": [
    "# freecodecamp.org\n",
    "## Numpy tutorial"
   ]
  },
  {
   "cell_type": "code",
   "execution_count": 1,
   "metadata": {},
   "outputs": [],
   "source": [
    "import numpy as np\n",
    "from random import randint"
   ]
  },
  {
   "cell_type": "markdown",
   "metadata": {},
   "source": [
    "### Extract certain elements from an array"
   ]
  },
  {
   "cell_type": "code",
   "execution_count": 14,
   "metadata": {},
   "outputs": [],
   "source": [
    "a = np.array([randint(1,100) for i in range(9)])\n",
    "a = np.reshape(a,(3,3))"
   ]
  },
  {
   "cell_type": "markdown",
   "metadata": {},
   "source": [
    "Select two first elements from second row and last element of last row.  \n",
    "Store this elements in a new array"
   ]
  },
  {
   "cell_type": "code",
   "execution_count": 19,
   "metadata": {},
   "outputs": [
    {
     "name": "stdout",
     "output_type": "stream",
     "text": [
      "[15, 3, 22]\n"
     ]
    }
   ],
   "source": [
    "b = [*a[1][0:2],a[2][2]]\n",
    "# first two elements are take using a slice and then unpacked using `*`\n",
    "print(b)"
   ]
  },
  {
   "cell_type": "markdown",
   "metadata": {},
   "source": [
    "To extract multiple elements from an array, use slice notation, but use a square brackets pair to use multiple indexes  \n",
    "`a[2]` returns the third element of the array, but `a[ [2,3] ]` return both the third and fourth elements "
   ]
  },
  {
   "cell_type": "code",
   "execution_count": 7,
   "metadata": {},
   "outputs": [
    {
     "name": "stdout",
     "output_type": "stream",
     "text": [
      "[30 45 50]\n"
     ]
    }
   ],
   "source": [
    "a = np.array([25,30,45,50,67,89,124])\n",
    "b = a[[1,2,3]]  # notice the double square brackets\n",
    "print(b)\n"
   ]
  },
  {
   "cell_type": "code",
   "execution_count": 10,
   "metadata": {},
   "outputs": [
    {
     "name": "stdout",
     "output_type": "stream",
     "text": [
      "[ 25  30  45  50  67  89 124]\n",
      "int64 - Default element size is 64 bits\n"
     ]
    }
   ],
   "source": [
    "print(a)\n",
    "# returns the type of the elements of a\n",
    "print(f'{a.dtype} - Default element size is 64 bits')\n"
   ]
  },
  {
   "cell_type": "markdown",
   "metadata": {},
   "source": [
    "Create an array especifying the tipe of elements"
   ]
  },
  {
   "cell_type": "code",
   "execution_count": 13,
   "metadata": {},
   "outputs": [
    {
     "data": {
      "text/plain": [
       "dtype('float64')"
      ]
     },
     "execution_count": 13,
     "metadata": {},
     "output_type": "execute_result"
    }
   ],
   "source": [
    "a = np.array([2,5,7,9], dtype=float)\n",
    "a.dtype"
   ]
  },
  {
   "cell_type": "markdown",
   "metadata": {},
   "source": [
    "Shape (`.shape -> tuple(rows, cols)`), dimensions (`.ndim` : number of dimensions) and size (`.size` : total number of elements) of an array"
   ]
  },
  {
   "cell_type": "code",
   "execution_count": 35,
   "metadata": {},
   "outputs": [
    {
     "name": "stdout",
     "output_type": "stream",
     "text": [
      "The array 'a' has 3 rows and 3 columns. It has 2 dimensions and 9 elements.\n"
     ]
    }
   ],
   "source": [
    "a = np.array( [\n",
    "              [1,2,2],\n",
    "              [-5,4,7],\n",
    "              [-1,0,3]\n",
    "              ])\n",
    "print(f\"The array 'a' has {a.shape[0]} rows and {a.shape[1]} columns. It has \"\n",
    "      f'{a.ndim} dimensions and {a.size} elements.')"
   ]
  },
  {
   "cell_type": "markdown",
   "metadata": {},
   "source": [
    "Three-dimensional arrays or so called *matrixes*"
   ]
  },
  {
   "cell_type": "code",
   "execution_count": 23,
   "metadata": {},
   "outputs": [
    {
     "name": "stdout",
     "output_type": "stream",
     "text": [
      "The array 'b' has 2 arrays of 2 rows and  3 columns. It has 3 dimensions and 12 elements.\n"
     ]
    }
   ],
   "source": [
    "b = np.array([\n",
    "    [[2,6,-7],\n",
    "     [3,-1,4]],\n",
    "\n",
    "    [[3,16,-2],\n",
    "     [2,-12,5]]\n",
    "    ])\n",
    "print(f\"The array 'b' has {b.shape[0]} arrays of {b.shape[1]} rows and \",\n",
    "      f\"{b.shape[2]} columns. It has {a.ndim} dimensions and \"\n",
    "      f\"{a.size} elements.\")"
   ]
  },
  {
   "cell_type": "markdown",
   "metadata": {},
   "source": [
    "Slicing matrixes"
   ]
  },
  {
   "cell_type": "code",
   "execution_count": 25,
   "metadata": {},
   "outputs": [
    {
     "data": {
      "text/plain": [
       "5"
      ]
     },
     "execution_count": 25,
     "metadata": {},
     "output_type": "execute_result"
    }
   ],
   "source": [
    "# element in row 2, column 3 of the second array of matrix b\n",
    "b[1][1][2]  # should return 5"
   ]
  },
  {
   "cell_type": "markdown",
   "metadata": {},
   "source": [
    "Reassigning a whole column or row"
   ]
  },
  {
   "cell_type": "code",
   "execution_count": 26,
   "metadata": {},
   "outputs": [
    {
     "name": "stdout",
     "output_type": "stream",
     "text": [
      "[[[  2   6  -7]\n",
      "  [  3  -1   4]]\n",
      "\n",
      " [[  3  16  -2]\n",
      "  [  2 -12   5]]]\n"
     ]
    }
   ],
   "source": [
    "print(b)"
   ]
  },
  {
   "cell_type": "code",
   "execution_count": 31,
   "metadata": {},
   "outputs": [
    {
     "name": "stdout",
     "output_type": "stream",
     "text": [
      "[[[ 2  6 -7]\n",
      "  [ 1  1  1]]\n",
      "\n",
      " [[ 3  0 -2]\n",
      "  [-5 -5 -5]]]\n"
     ]
    }
   ],
   "source": [
    "b[0][1] = [1,1,1]  # replace 2nd row of 1st array\n",
    "b[1,:,1] = [0,0]  # replace 2nd column of the 2nd array\n",
    "b[1,1,:] = -5  # replace whole 2nd row of 2nd array with 5's elements\n",
    "print(b)"
   ]
  },
  {
   "cell_type": "markdown",
   "metadata": {},
   "source": [
    "Some statistics methods applied on a matrix or array"
   ]
  },
  {
   "cell_type": "code",
   "execution_count": 43,
   "metadata": {},
   "outputs": [
    {
     "name": "stdout",
     "output_type": "stream",
     "text": [
      "[[ 1  2  2]\n",
      " [-5  4  7]\n",
      " [-1  0  3]]\n",
      "The sum of the elements of each row is: \n",
      "Row 1: -5\n",
      "Row 2: 6\n",
      "Row 3: 12\n"
     ]
    }
   ],
   "source": [
    "a = np.array( [\n",
    "              [1,2,2],\n",
    "              [-5,4,7],\n",
    "              [-1,0,3]\n",
    "              ])\n",
    "print(a)\n",
    "print(\"The sum of the elements of each row is: \")\n",
    "# axis=0 --> x axis, axis=1 -->  y axis\n",
    "# axis = 0 --> iterate through rows\n",
    "# axis = 1 --> iterate through columns\n",
    "cols_sum = a.sum(axis=0)  \n",
    "for i in range(a.shape[0]):\n",
    "    print(f\"Row {i+1}: {cols_sum[i]}\")\n"
   ]
  },
  {
   "cell_type": "code",
   "execution_count": 48,
   "metadata": {},
   "outputs": [
    {
     "data": {
      "text/plain": [
       "array([20, 21, 22, 23, 24])"
      ]
     },
     "execution_count": 48,
     "metadata": {},
     "output_type": "execute_result"
    }
   ],
   "source": [
    "a = np.arange(5)\n",
    "a + 20\n"
   ]
  },
  {
   "cell_type": "code",
   "execution_count": null,
   "metadata": {},
   "outputs": [],
   "source": []
  }
 ],
 "metadata": {
  "interpreter": {
   "hash": "e7370f93d1d0cde622a1f8e1c04877d8463912d04d973331ad4851f04de6915a"
  },
  "kernelspec": {
   "display_name": "Python 3.10.1 64-bit",
   "language": "python",
   "name": "python3"
  },
  "language_info": {
   "codemirror_mode": {
    "name": "ipython",
    "version": 3
   },
   "file_extension": ".py",
   "mimetype": "text/x-python",
   "name": "python",
   "nbconvert_exporter": "python",
   "pygments_lexer": "ipython3",
   "version": "3.10.1"
  },
  "orig_nbformat": 4
 },
 "nbformat": 4,
 "nbformat_minor": 2
}
