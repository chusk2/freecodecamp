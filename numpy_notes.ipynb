{
 "cells": [
  {
   "cell_type": "markdown",
   "metadata": {},
   "source": [
    "# freecodecamp.org\n",
    "## Numpy tutorial"
   ]
  },
  {
   "cell_type": "code",
   "execution_count": 2,
   "metadata": {},
   "outputs": [],
   "source": [
    "import numpy as np\n",
    "from random import randint"
   ]
  },
  {
   "cell_type": "markdown",
   "metadata": {},
   "source": [
    "### Extract certain elements from an array"
   ]
  },
  {
   "cell_type": "code",
   "execution_count": 14,
   "metadata": {},
   "outputs": [],
   "source": [
    "a = np.array([randint(1,100) for i in range(9)])\n",
    "a = np.reshape(a,(3,3))"
   ]
  },
  {
   "cell_type": "markdown",
   "metadata": {},
   "source": [
    "Select two first elements from second row and last element of last row.  \n",
    "Store this elements in a new array"
   ]
  },
  {
   "cell_type": "code",
   "execution_count": 19,
   "metadata": {},
   "outputs": [
    {
     "name": "stdout",
     "output_type": "stream",
     "text": [
      "[15, 3, 22]\n"
     ]
    }
   ],
   "source": [
    "b = [*a[1][0:2],a[2][2]]\n",
    "# first two elements are take using a slice and then unpacked using `*`\n",
    "print(b)"
   ]
  },
  {
   "cell_type": "markdown",
   "metadata": {},
   "source": [
    "To extract multiple elements from an array, use slice notation, but use a square brackets pair to use multiple indexes  \n",
    "`a[2]` returns the third element of the array, but `a[ [2,3] ]` return both the third and fourth elements "
   ]
  },
  {
   "cell_type": "code",
   "execution_count": 7,
   "metadata": {},
   "outputs": [
    {
     "name": "stdout",
     "output_type": "stream",
     "text": [
      "[30 45 50]\n"
     ]
    }
   ],
   "source": [
    "a = np.array([25,30,45,50,67,89,124])\n",
    "b = a[[1,2,3]]  # notice the double square brackets\n",
    "print(b)\n"
   ]
  },
  {
   "cell_type": "code",
   "execution_count": 10,
   "metadata": {},
   "outputs": [
    {
     "name": "stdout",
     "output_type": "stream",
     "text": [
      "[ 25  30  45  50  67  89 124]\n",
      "int64 - Default element size is 64 bits\n"
     ]
    }
   ],
   "source": [
    "print(a)\n",
    "# returns the type of the elements of a\n",
    "print(f'{a.dtype} - Default element size is 64 bits')\n"
   ]
  },
  {
   "cell_type": "markdown",
   "metadata": {},
   "source": [
    "Create an array especifying the tipe of elements"
   ]
  },
  {
   "cell_type": "code",
   "execution_count": 13,
   "metadata": {},
   "outputs": [
    {
     "data": {
      "text/plain": [
       "dtype('float64')"
      ]
     },
     "execution_count": 13,
     "metadata": {},
     "output_type": "execute_result"
    }
   ],
   "source": [
    "a = np.array([2,5,7,9], dtype=float)\n",
    "a.dtype"
   ]
  },
  {
   "cell_type": "markdown",
   "metadata": {},
   "source": [
    "Shape (`.shape -> tuple(rows, cols)`), dimensions (`.ndim` : number of dimensions) and size (`.size` : total number of elements) of an array"
   ]
  },
  {
   "cell_type": "code",
   "execution_count": 35,
   "metadata": {},
   "outputs": [
    {
     "name": "stdout",
     "output_type": "stream",
     "text": [
      "The array 'a' has 3 rows and 3 columns. It has 2 dimensions and 9 elements.\n"
     ]
    }
   ],
   "source": [
    "a = np.array( [\n",
    "              [1,2,2],\n",
    "              [-5,4,7],\n",
    "              [-1,0,3]\n",
    "              ])\n",
    "print(f\"The array 'a' has {a.shape[0]} rows and {a.shape[1]} columns. It has \"\n",
    "      f'{a.ndim} dimensions and {a.size} elements.')"
   ]
  },
  {
   "cell_type": "markdown",
   "metadata": {},
   "source": [
    "Three-dimensional arrays or so called *matrixes*"
   ]
  },
  {
   "cell_type": "code",
   "execution_count": 23,
   "metadata": {},
   "outputs": [
    {
     "name": "stdout",
     "output_type": "stream",
     "text": [
      "The array 'b' has 2 arrays of 2 rows and  3 columns. It has 3 dimensions and 12 elements.\n"
     ]
    }
   ],
   "source": [
    "b = np.array([\n",
    "    [[2,6,-7],\n",
    "     [3,-1,4]],\n",
    "\n",
    "    [[3,16,-2],\n",
    "     [2,-12,5]]\n",
    "    ])\n",
    "print(f\"The array 'b' has {b.shape[0]} arrays of {b.shape[1]} rows and \",\n",
    "      f\"{b.shape[2]} columns. It has {a.ndim} dimensions and \"\n",
    "      f\"{a.size} elements.\")"
   ]
  },
  {
   "cell_type": "markdown",
   "metadata": {},
   "source": [
    "Slicing matrixes"
   ]
  },
  {
   "cell_type": "code",
   "execution_count": 25,
   "metadata": {},
   "outputs": [
    {
     "data": {
      "text/plain": [
       "5"
      ]
     },
     "execution_count": 25,
     "metadata": {},
     "output_type": "execute_result"
    }
   ],
   "source": [
    "# element in row 2, column 3 of the second array of matrix b\n",
    "b[1][1][2]  # should return 5"
   ]
  },
  {
   "cell_type": "markdown",
   "metadata": {},
   "source": [
    "Reassigning a whole column or row"
   ]
  },
  {
   "cell_type": "code",
   "execution_count": 26,
   "metadata": {},
   "outputs": [
    {
     "name": "stdout",
     "output_type": "stream",
     "text": [
      "[[[  2   6  -7]\n",
      "  [  3  -1   4]]\n",
      "\n",
      " [[  3  16  -2]\n",
      "  [  2 -12   5]]]\n"
     ]
    }
   ],
   "source": [
    "print(b)"
   ]
  },
  {
   "cell_type": "code",
   "execution_count": 31,
   "metadata": {},
   "outputs": [
    {
     "name": "stdout",
     "output_type": "stream",
     "text": [
      "[[[ 2  6 -7]\n",
      "  [ 1  1  1]]\n",
      "\n",
      " [[ 3  0 -2]\n",
      "  [-5 -5 -5]]]\n"
     ]
    }
   ],
   "source": [
    "b[0][1] = [1,1,1]  # replace 2nd row of 1st array\n",
    "b[1,:,1] = [0,0]  # replace 2nd column of the 2nd array\n",
    "b[1,1,:] = -5  # replace whole 2nd row of 2nd array with 5's elements\n",
    "print(b)"
   ]
  },
  {
   "cell_type": "markdown",
   "metadata": {},
   "source": [
    "Some statistics methods applied on a matrix or array"
   ]
  },
  {
   "cell_type": "code",
   "execution_count": 43,
   "metadata": {},
   "outputs": [
    {
     "name": "stdout",
     "output_type": "stream",
     "text": [
      "[[ 1  2  2]\n",
      " [-5  4  7]\n",
      " [-1  0  3]]\n",
      "The sum of the elements of each row is: \n",
      "Row 1: -5\n",
      "Row 2: 6\n",
      "Row 3: 12\n"
     ]
    }
   ],
   "source": [
    "a = np.array( [\n",
    "              [1,2,2],\n",
    "              [-5,4,7],\n",
    "              [-1,0,3]\n",
    "              ])\n",
    "print(a)\n",
    "print(\"The sum of the elements of each row is: \")\n",
    "# axis=0 --> x axis, axis=1 -->  y axis\n",
    "# axis = 0 --> iterate through rows\n",
    "# axis = 1 --> iterate through columns\n",
    "cols_sum = a.sum(axis=0)  \n",
    "for i in range(a.shape[0]):\n",
    "    print(f\"Row {i+1}: {cols_sum[i]}\")\n"
   ]
  },
  {
   "cell_type": "code",
   "execution_count": 48,
   "metadata": {},
   "outputs": [
    {
     "data": {
      "text/plain": [
       "array([20, 21, 22, 23, 24])"
      ]
     },
     "execution_count": 48,
     "metadata": {},
     "output_type": "execute_result"
    }
   ],
   "source": [
    "a = np.arange(5)\n",
    "a + 20\n"
   ]
  },
  {
   "cell_type": "markdown",
   "metadata": {},
   "source": []
  },
  {
   "cell_type": "markdown",
   "metadata": {},
   "source": [
    "### Boolean arrays  \n",
    "A special form of slicing elements of an array, using `True` to return the element corresponding to that position or `False` to omit it."
   ]
  },
  {
   "cell_type": "code",
   "execution_count": 6,
   "metadata": {},
   "outputs": [
    {
     "name": "stdout",
     "output_type": "stream",
     "text": [
      "[0 1 2 3 4 5]\n"
     ]
    },
    {
     "data": {
      "text/plain": [
       "array([0, 3, 4])"
      ]
     },
     "execution_count": 6,
     "metadata": {},
     "output_type": "execute_result"
    }
   ],
   "source": [
    "c = np.arange(6)\n",
    "print(c)\n",
    "# we want only the elements in position 0, 3 and 4 \n",
    "bool_array = [True,False,False,True,True,False]\n",
    "c[bool_array]"
   ]
  },
  {
   "cell_type": "markdown",
   "metadata": {},
   "source": [
    "In the example above, a list with boolean values was used to slice an array. In the following example we filter an array and the result is another array filled with boolean values, depending on whether they fulfill the given condition."
   ]
  },
  {
   "cell_type": "code",
   "execution_count": 15,
   "metadata": {},
   "outputs": [
    {
     "name": "stdout",
     "output_type": "stream",
     "text": [
      "[0 1 2 3 4 5 6 7 8 9]\n",
      "[False  True False  True False  True False  True False  True]\n"
     ]
    }
   ],
   "source": [
    "d = np.arange(10)\n",
    "print(d)\n",
    "# check if element is odd\n",
    "odds = (d %2) != 0\n",
    "print(odds)"
   ]
  },
  {
   "cell_type": "markdown",
   "metadata": {},
   "source": [
    "This result can be used to get the actual values that fulfill the condition"
   ]
  },
  {
   "cell_type": "code",
   "execution_count": 19,
   "metadata": {},
   "outputs": [
    {
     "name": "stdout",
     "output_type": "stream",
     "text": [
      "odd numbers\n",
      "[1 3 5 7 9]\n",
      "even numbers\n",
      "[0 2 4 6 8]\n"
     ]
    }
   ],
   "source": [
    "print(\"odd numbers\")\n",
    "print(d[odds])\n",
    "print(\"even numbers\")\n",
    "print(d[(d % 2) == 0])"
   ]
  },
  {
   "cell_type": "markdown",
   "metadata": {},
   "source": [
    "Let's create an array filled with random numbers and the select the values that are above the median"
   ]
  },
  {
   "cell_type": "code",
   "execution_count": 23,
   "metadata": {},
   "outputs": [
    {
     "name": "stdout",
     "output_type": "stream",
     "text": [
      "[0.98234871 0.08292989 0.58814866 0.52706015 0.64850111 0.76879235\n",
      " 0.10600642 0.18439408 0.98123795 0.71056822 0.18775989 0.01182089\n",
      " 0.98697667 0.86872411 0.10992383 0.7310289  0.65150388 0.65300207\n",
      " 0.00433831 0.19339238 0.62452012 0.32120617 0.54432572 0.22242058\n",
      " 0.59897226 0.48399792 0.93511664 0.33224271 0.68369024 0.99222272]\n"
     ]
    }
   ],
   "source": [
    "random_array = np.random.rand(30)\n",
    "print(random_array)"
   ]
  },
  {
   "cell_type": "markdown",
   "metadata": {},
   "source": [
    "AS we can see, `np.random.rand(n)` returns an array of numbers randomly chosen between 0 and 1. To get integers I will round them and transform them into int type using both `np.round_(array)` and `array.astype(new_type)` methods."
   ]
  },
  {
   "cell_type": "code",
   "execution_count": 25,
   "metadata": {},
   "outputs": [
    {
     "name": "stdout",
     "output_type": "stream",
     "text": [
      "[98  8 59 53 65 77 11 18 98 71 19  1 99 87 11 73 65 65  0 19 62 32 54 22\n",
      " 60 48 94 33 68 99]\n"
     ]
    }
   ],
   "source": [
    "sample = random_array * 100\n",
    "sample = np.round_(sample)\n",
    "sample = sample.astype(int)\n",
    "print(sample)"
   ]
  },
  {
   "cell_type": "markdown",
   "metadata": {},
   "source": [
    "Alternative (and better) way of obtaining an **array of random numbers** using `np.random.randint(low,high, array_shape, dtype=int)`"
   ]
  },
  {
   "cell_type": "code",
   "execution_count": 42,
   "metadata": {},
   "outputs": [
    {
     "name": "stdout",
     "output_type": "stream",
     "text": [
      "[[14 98 45 65 65 27 98 12 38 38 82  5 11 19 98 68 88 83 21 65 64 31 15 44\n",
      "  76 12 74 94 43 61]]\n"
     ]
    }
   ],
   "source": [
    "# create an array (1 row, 30 cols) with random integers ranging from 1 to 100 \n",
    "sample2 = np.random.randint(1,100,(1,30))\n",
    "print(sample2)"
   ]
  },
  {
   "cell_type": "markdown",
   "metadata": {},
   "source": [
    "Show and count only the elements which are equal or greater than the median"
   ]
  },
  {
   "cell_type": "code",
   "execution_count": 36,
   "metadata": {},
   "outputs": [
    {
     "name": "stdout",
     "output_type": "stream",
     "text": [
      "The median of the sample is 59.5 and there are 15 elements.\n",
      "There they are:\n",
      "[60, 62, 65, 65, 65, 68, 71, 73, 77, 87, 94, 98, 98, 99, 99]\n"
     ]
    }
   ],
   "source": [
    "median = np.median(sample)\n",
    "# example of boolean array\n",
    "upper_sample = sample[sample >= np.median(sample)]\n",
    "print(f\"The median of the sample is {median} and there are\",\n",
    "      f\"{upper_sample.size} elements.\")\n",
    "print(\"There they are:\")\n",
    "print(sorted(upper_sample))"
   ]
  },
  {
   "cell_type": "markdown",
   "metadata": {},
   "source": [
    "If `and` operator is used when filtering, it throws an exception"
   ]
  },
  {
   "cell_type": "code",
   "execution_count": 47,
   "metadata": {},
   "outputs": [
    {
     "ename": "ValueError",
     "evalue": "The truth value of an array with more than one element is ambiguous. Use a.any() or a.all()",
     "output_type": "error",
     "traceback": [
      "\u001b[0;31m---------------------------------------------------------------------------\u001b[0m",
      "\u001b[0;31mValueError\u001b[0m                                Traceback (most recent call last)",
      "\u001b[0;32m/tmp/ipykernel_5058/1377905698.py\u001b[0m in \u001b[0;36m<module>\u001b[0;34m\u001b[0m\n\u001b[0;32m----> 1\u001b[0;31m \u001b[0mupper_sample\u001b[0m\u001b[0;34m[\u001b[0m\u001b[0;34m(\u001b[0m\u001b[0;34m(\u001b[0m\u001b[0mupper_sample\u001b[0m \u001b[0;34m%\u001b[0m \u001b[0;36m2\u001b[0m\u001b[0;34m)\u001b[0m \u001b[0;34m==\u001b[0m \u001b[0;36m0\u001b[0m \u001b[0;34m)\u001b[0m \u001b[0;32mand\u001b[0m \u001b[0;34m(\u001b[0m\u001b[0mupper_sample\u001b[0m \u001b[0;34m>\u001b[0m \u001b[0;36m70\u001b[0m\u001b[0;34m)\u001b[0m\u001b[0;34m]\u001b[0m\u001b[0;34m\u001b[0m\u001b[0;34m\u001b[0m\u001b[0m\n\u001b[0m",
      "\u001b[0;31mValueError\u001b[0m: The truth value of an array with more than one element is ambiguous. Use a.any() or a.all()"
     ]
    }
   ],
   "source": [
    "upper_sample[((upper_sample % 2) == 0 ) and (upper_sample > 70)]\n"
   ]
  },
  {
   "cell_type": "markdown",
   "metadata": {},
   "source": [
    "Boolean operators: `| and`, `~ not`, `& or`"
   ]
  },
  {
   "cell_type": "code",
   "execution_count": 49,
   "metadata": {},
   "outputs": [
    {
     "data": {
      "text/plain": [
       "array([98, 77, 98, 71, 99, 87, 73, 62, 60, 94, 68, 99])"
      ]
     },
     "execution_count": 49,
     "metadata": {},
     "output_type": "execute_result"
    }
   ],
   "source": [
    "upper_sample[((upper_sample % 2) == 0 ) | (upper_sample > 70)]\n"
   ]
  },
  {
   "cell_type": "code",
   "execution_count": null,
   "metadata": {},
   "outputs": [],
   "source": []
  },
  {
   "cell_type": "markdown",
   "metadata": {},
   "source": [
    "## Useful Numpy functions"
   ]
  },
  {
   "cell_type": "markdown",
   "metadata": {},
   "source": [
    "---\n",
    "### `random` "
   ]
  },
  {
   "cell_type": "code",
   "execution_count": 50,
   "metadata": {},
   "outputs": [
    {
     "data": {
      "text/plain": [
       "array([0.03273174, 0.70038691])"
      ]
     },
     "execution_count": 50,
     "metadata": {},
     "output_type": "execute_result"
    }
   ],
   "source": [
    "np.random.random(size=2)"
   ]
  },
  {
   "cell_type": "code",
   "execution_count": null,
   "metadata": {},
   "outputs": [],
   "source": [
    "np.random.normal(size=2)"
   ]
  },
  {
   "cell_type": "code",
   "execution_count": null,
   "metadata": {},
   "outputs": [],
   "source": [
    "np.random.rand(2, 4)"
   ]
  },
  {
   "cell_type": "markdown",
   "metadata": {},
   "source": [
    "---\n",
    "### `arange`"
   ]
  },
  {
   "cell_type": "code",
   "execution_count": null,
   "metadata": {},
   "outputs": [],
   "source": [
    "np.arange(10)"
   ]
  },
  {
   "cell_type": "code",
   "execution_count": null,
   "metadata": {},
   "outputs": [],
   "source": [
    "np.arange(5, 10)"
   ]
  },
  {
   "cell_type": "code",
   "execution_count": null,
   "metadata": {},
   "outputs": [],
   "source": [
    "np.arange(0, 1, .1)"
   ]
  },
  {
   "cell_type": "markdown",
   "metadata": {},
   "source": [
    "---\n",
    "### `reshape`"
   ]
  },
  {
   "cell_type": "code",
   "execution_count": null,
   "metadata": {},
   "outputs": [],
   "source": [
    "np.arange(10).reshape(2, 5)"
   ]
  },
  {
   "cell_type": "code",
   "execution_count": null,
   "metadata": {},
   "outputs": [],
   "source": [
    "np.arange(10).reshape(5, 2)"
   ]
  },
  {
   "cell_type": "markdown",
   "metadata": {},
   "source": [
    "---\n",
    "### `linspace`"
   ]
  },
  {
   "cell_type": "code",
   "execution_count": null,
   "metadata": {},
   "outputs": [],
   "source": [
    "np.linspace(0, 1, 5)"
   ]
  },
  {
   "cell_type": "code",
   "execution_count": null,
   "metadata": {},
   "outputs": [],
   "source": [
    "np.linspace(0, 1, 20)"
   ]
  },
  {
   "cell_type": "code",
   "execution_count": null,
   "metadata": {
    "scrolled": true
   },
   "outputs": [],
   "source": [
    "np.linspace(0, 1, 20, False)"
   ]
  },
  {
   "cell_type": "markdown",
   "metadata": {},
   "source": [
    "---\n",
    "### `zeros`, `ones`, `empty`"
   ]
  },
  {
   "cell_type": "code",
   "execution_count": null,
   "metadata": {},
   "outputs": [],
   "source": [
    "np.zeros(5)"
   ]
  },
  {
   "cell_type": "code",
   "execution_count": null,
   "metadata": {
    "scrolled": true
   },
   "outputs": [],
   "source": [
    "np.zeros((3, 3))"
   ]
  },
  {
   "cell_type": "code",
   "execution_count": null,
   "metadata": {
    "scrolled": true
   },
   "outputs": [],
   "source": [
    "np.zeros((3, 3), dtype=np.int)"
   ]
  },
  {
   "cell_type": "code",
   "execution_count": null,
   "metadata": {},
   "outputs": [],
   "source": [
    "np.ones(5)"
   ]
  },
  {
   "cell_type": "code",
   "execution_count": null,
   "metadata": {},
   "outputs": [],
   "source": [
    "np.ones((3, 3))"
   ]
  },
  {
   "cell_type": "code",
   "execution_count": null,
   "metadata": {},
   "outputs": [],
   "source": [
    "np.empty(5)"
   ]
  },
  {
   "cell_type": "code",
   "execution_count": null,
   "metadata": {
    "scrolled": true
   },
   "outputs": [],
   "source": [
    "np.empty((2, 2))"
   ]
  },
  {
   "cell_type": "markdown",
   "metadata": {},
   "source": [
    "---\n",
    "### `identity` and `eye`"
   ]
  },
  {
   "cell_type": "code",
   "execution_count": null,
   "metadata": {},
   "outputs": [],
   "source": [
    "np.identity(3)"
   ]
  },
  {
   "cell_type": "code",
   "execution_count": null,
   "metadata": {},
   "outputs": [],
   "source": [
    "np.eye(3, 3)"
   ]
  },
  {
   "cell_type": "code",
   "execution_count": null,
   "metadata": {},
   "outputs": [],
   "source": [
    "np.eye(8, 4)"
   ]
  },
  {
   "cell_type": "code",
   "execution_count": null,
   "metadata": {
    "scrolled": true
   },
   "outputs": [],
   "source": [
    "np.eye(8, 4, k=1)"
   ]
  },
  {
   "cell_type": "code",
   "execution_count": null,
   "metadata": {},
   "outputs": [],
   "source": [
    "np.eye(8, 4, k=-3)"
   ]
  }
 ],
 "metadata": {
  "interpreter": {
   "hash": "e7370f93d1d0cde622a1f8e1c04877d8463912d04d973331ad4851f04de6915a"
  },
  "kernelspec": {
   "display_name": "Python 3.10.1 64-bit",
   "language": "python",
   "name": "python3"
  },
  "language_info": {
   "codemirror_mode": {
    "name": "ipython",
    "version": 3
   },
   "file_extension": ".py",
   "mimetype": "text/x-python",
   "name": "python",
   "nbconvert_exporter": "python",
   "pygments_lexer": "ipython3",
   "version": "3.10.1"
  },
  "orig_nbformat": 4
 },
 "nbformat": 4,
 "nbformat_minor": 2
}
